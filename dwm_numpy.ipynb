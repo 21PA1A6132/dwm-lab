{
  "nbformat": 4,
  "nbformat_minor": 0,
  "metadata": {
    "colab": {
      "provenance": [],
      "authorship_tag": "ABX9TyMUomvExCAG/E6rr5iI35M0",
      "include_colab_link": true
    },
    "kernelspec": {
      "name": "python3",
      "display_name": "Python 3"
    },
    "language_info": {
      "name": "python"
    }
  },
  "cells": [
    {
      "cell_type": "markdown",
      "metadata": {
        "id": "view-in-github",
        "colab_type": "text"
      },
      "source": [
        "<a href=\"https://colab.research.google.com/github/21PA1A6132/dwm-lab/blob/main/dwm_numpy.ipynb\" target=\"_parent\"><img src=\"https://colab.research.google.com/assets/colab-badge.svg\" alt=\"Open In Colab\"/></a>"
      ]
    },
    {
      "cell_type": "code",
      "execution_count": 1,
      "metadata": {
        "colab": {
          "base_uri": "https://localhost:8080/"
        },
        "id": "KkwDsOXyhJZ5",
        "outputId": "8e5269e3-5d61-4641-82ac-ab911f924c3b"
      },
      "outputs": [
        {
          "output_type": "stream",
          "name": "stdout",
          "text": [
            "[1 2 3 4]\n"
          ]
        }
      ],
      "source": [
        "#1-D array\n",
        "import numpy as np\n",
        "x=np.array([1,2,3,4])\n",
        "print(x)"
      ]
    },
    {
      "cell_type": "code",
      "source": [
        "#array of numbers from 10 to 100 with interval of \n",
        "x=np.arange(10,100,5)\n",
        "print(x)"
      ],
      "metadata": {
        "colab": {
          "base_uri": "https://localhost:8080/"
        },
        "id": "eg6I4dQUiAj6",
        "outputId": "ab19b4a9-86fe-4c1b-97cb-fe100a54a566"
      },
      "execution_count": 7,
      "outputs": [
        {
          "output_type": "stream",
          "name": "stdout",
          "text": [
            "[10 15 20 25 30 35 40 45 50 55 60 65 70 75 80 85 90 95]\n"
          ]
        }
      ]
    },
    {
      "cell_type": "code",
      "source": [
        "#Random elements array with size 10\n",
        "x=(np.random.random(10)*100).astype(int)\n",
        "print(x)x=(np.random.random(10)*100).astype(int)"
      ],
      "metadata": {
        "colab": {
          "base_uri": "https://localhost:8080/"
        },
        "id": "prD9_Z8wlkxL",
        "outputId": "b207260c-13a4-47cc-b2eb-8024efa6200d"
      },
      "execution_count": 30,
      "outputs": [
        {
          "output_type": "stream",
          "name": "stdout",
          "text": [
            "[56 74 11 26 17 10 14  6 75 60]\n"
          ]
        }
      ]
    },
    {
      "cell_type": "code",
      "source": [
        "#2-D array\n",
        "y=np.array([[1,2,3],[4,5,6]])\n",
        "print(y)"
      ],
      "metadata": {
        "colab": {
          "base_uri": "https://localhost:8080/"
        },
        "id": "uLvKrECWia3t",
        "outputId": "b688cf3c-7e90-4f2d-a36c-98453a464db4"
      },
      "execution_count": 11,
      "outputs": [
        {
          "output_type": "stream",
          "name": "stdout",
          "text": [
            "[[1 2 3]\n",
            " [4 5 6]]\n"
          ]
        }
      ]
    },
    {
      "cell_type": "code",
      "source": [
        "#Adding elements at end\n",
        "x=np.array([1,2,3])\n",
        "print(\"Before appending array is:\",x)\n",
        "x=np.append(x,[4,5])\n",
        "print(\"After appending array is:\",x)"
      ],
      "metadata": {
        "colab": {
          "base_uri": "https://localhost:8080/"
        },
        "id": "SmqJchZlkKlA",
        "outputId": "b19683ef-e186-409d-ca29-e50f78de960c"
      },
      "execution_count": 12,
      "outputs": [
        {
          "output_type": "stream",
          "name": "stdout",
          "text": [
            "Before appending array is: [1 2 3]\n",
            "After appending array is: [1 2 3 4 5]\n"
          ]
        }
      ]
    },
    {
      "cell_type": "code",
      "source": [
        "#Adding elements at a particular index\n",
        "x=np.array([1,2,4])\n",
        "print(\"Before inserting array is:\",x)\n",
        "x=np.insert(x,2,3)\n",
        "print(\"After inserting array is:\",x)"
      ],
      "metadata": {
        "colab": {
          "base_uri": "https://localhost:8080/"
        },
        "id": "X1KXxHAXk2-J",
        "outputId": "3c2e859c-5c02-4100-eb74-ae749ad39c94"
      },
      "execution_count": 14,
      "outputs": [
        {
          "output_type": "stream",
          "name": "stdout",
          "text": [
            "Before inserting array is: [1 2 4]\n",
            "After inserting array is: [1 2 3 4]\n"
          ]
        }
      ]
    },
    {
      "cell_type": "code",
      "source": [
        "#removing elements\n",
        "a=np.array([1,2,3,4,5])\n",
        "print(\"before deletion array is:\",a)\n",
        "a=np.delete(a,3)\n",
        "print(\"After deletion array is:\",a)"
      ],
      "metadata": {
        "colab": {
          "base_uri": "https://localhost:8080/"
        },
        "id": "CFbzRm51nOLV",
        "outputId": "77c2f70f-f4a2-4811-9923-6d5b6c4a2770"
      },
      "execution_count": 38,
      "outputs": [
        {
          "output_type": "stream",
          "name": "stdout",
          "text": [
            "before deletion array is: [1 2 3 4 5]\n",
            "After deletion array is: [1 2 3 5]\n"
          ]
        }
      ]
    },
    {
      "cell_type": "code",
      "source": [
        "#Modifying elements \n",
        "b=np.arange(10,50,5)\n",
        "b[b<20]=0\n",
        "print(b)"
      ],
      "metadata": {
        "colab": {
          "base_uri": "https://localhost:8080/"
        },
        "id": "NkVbMFPDocjn",
        "outputId": "214ddcd9-bce9-409e-ce23-dc5300cef03f"
      },
      "execution_count": 41,
      "outputs": [
        {
          "output_type": "stream",
          "name": "stdout",
          "text": [
            "[ 0  0 20 25 30 35 40 45]\n"
          ]
        }
      ]
    },
    {
      "cell_type": "code",
      "source": [
        "#Arithmetic operations on numpy array's\n",
        "a=np.array([1,2,3,4])\n",
        "b=np.arange(4)\n",
        "print(\"The elements in a are\",a)\n",
        "print(\"The elements in b are\",b)\n",
        "print(\"Result after Addition\",a+b)\n",
        "print(\"Result after substraction\",a-b)\n",
        "print(\"Result after multiplication\",a*b)\n",
        "print(\"Result after division\",a/b)\n",
        "print(\"Result after increasing the number to the power of 4\",b**4)\n",
        "print(\"Result after applying sin and multiplying with 10\",10*np.sin(a))\n",
        "a[0] +=10\n",
        "print(\"Result after adding first element with 10\",a)\n",
        "print(np.dot(a,b))"
      ],
      "metadata": {
        "colab": {
          "base_uri": "https://localhost:8080/"
        },
        "id": "YZrJMlpCpBYG",
        "outputId": "58ebdb14-a5c5-43dd-8040-e622508bcfa8"
      },
      "execution_count": 43,
      "outputs": [
        {
          "output_type": "stream",
          "name": "stdout",
          "text": [
            "The elements in a are [1 2 3 4]\n",
            "The elements in b are [0 1 2 3]\n",
            "Result after Addition [1 3 5 7]\n",
            "Result after substraction [1 1 1 1]\n",
            "Result after multiplication [ 0  2  6 12]\n",
            "Result after division [       inf 2.         1.5        1.33333333]\n",
            "Result after increasing the number to the power of 4 [ 0  1 16 81]\n",
            "Result after applying sin and multiplying with 10 [ 8.41470985  9.09297427  1.41120008 -7.56802495]\n",
            "Result after adding first element with 10 [11  2  3  4]\n",
            "20\n"
          ]
        },
        {
          "output_type": "stream",
          "name": "stderr",
          "text": [
            "<ipython-input-43-c707be142944>:9: RuntimeWarning: divide by zero encountered in true_divide\n",
            "  print(\"Result after division\",a/b)\n"
          ]
        }
      ]
    },
    {
      "cell_type": "code",
      "source": [
        "#Slicing a 1D aray\n"
      ],
      "metadata": {
        "id": "y7GsY81Kp44N"
      },
      "execution_count": null,
      "outputs": []
    },
    {
      "cell_type": "code",
      "source": [
        "a=np.arange(10)**3\n",
        "print(\"Let's consider the elements\",a)\n",
        "print(\"The output of a[2] is\", a[2])\n",
        "print(\"The output of a[2:4] is\",a[2:4])\n",
        "print(\"The output of a[2:3] is\",a[2:3])\n",
        "print(\"The output of a[-1] is\",a[-1])\n",
        "print(\"The output of a[-2] is\",a[-2]) \n",
        "print(\"The output of a[-5:-2] is\",a[-5:-2]) "
      ],
      "metadata": {
        "colab": {
          "base_uri": "https://localhost:8080/"
        },
        "id": "rWZEYwOKp4-a",
        "outputId": "9e3d7cd7-5c8f-4750-a6b3-b8c031d899a4"
      },
      "execution_count": 46,
      "outputs": [
        {
          "output_type": "stream",
          "name": "stdout",
          "text": [
            "Let's consider the elements [  0   1   8  27  64 125 216 343 512 729]\n",
            "The output of a[2] is 8\n",
            "The output of a[2:4] is [ 8 27]\n",
            "The output of a[2:3] is [8]\n",
            "The output of a[-1] is 729\n",
            "The output of a[-2] is 512\n",
            "The output of a[-5:-2] is [125 216 343]\n"
          ]
        }
      ]
    },
    {
      "cell_type": "code",
      "source": [
        "# Slicing a 2-D array\n",
        "a=np.arange(12).reshape(4,3)**2 \n",
        "11.\n",
        "print(\"The output of a[2] is\",a)\n",
        "print(\"The output of a[1:3] is\",a[1:3]) \n",
        "print(\"The output of a[1:3,1:2] is\",a[1:3,1:2])\n",
        "print(\"The output of a[2,] is\",a[2,])\n",
        "print(\"The output of a[:3,] is\",a[:3,])\n",
        "print(\"The output of a[-1,] is\",a[-1,])\n",
        "print(\"The output of a[-1,-1] is\",a[-1,-1]) "
      ],
      "metadata": {
        "colab": {
          "base_uri": "https://localhost:8080/"
        },
        "id": "5IQ2RTHCrRV-",
        "outputId": "e2c9701a-6024-42c0-a556-b4df41db9b12"
      },
      "execution_count": 47,
      "outputs": [
        {
          "output_type": "stream",
          "name": "stdout",
          "text": [
            "The output of a[2] is [[  0   1   4]\n",
            " [  9  16  25]\n",
            " [ 36  49  64]\n",
            " [ 81 100 121]]\n",
            "The output of a[1:3] is [[ 9 16 25]\n",
            " [36 49 64]]\n",
            "The output of a[1:3,1:2] is [[16]\n",
            " [49]]\n",
            "The output of a[2,] is [36 49 64]\n",
            "The output of a[:3,] is [[ 0  1  4]\n",
            " [ 9 16 25]\n",
            " [36 49 64]]\n",
            "The output of a[-1,] is [ 81 100 121]\n",
            "The output of a[-1,-1] is 121\n"
          ]
        }
      ]
    },
    {
      "cell_type": "code",
      "source": [
        "#Iterating\n",
        "a=np.arange(12).reshape(4,3)**2 \n",
        "print(\"Let's consider an array\\n\",a)\n",
        "print(\"\\n\")\n",
        "for i in a:\n",
        "  print(i*2)"
      ],
      "metadata": {
        "colab": {
          "base_uri": "https://localhost:8080/"
        },
        "id": "AQ9Jbcmxr-MF",
        "outputId": "f7b556f5-747a-4b38-fdd9-7d89759a2da5"
      },
      "execution_count": 49,
      "outputs": [
        {
          "output_type": "stream",
          "name": "stdout",
          "text": [
            "Let's consider an array\n",
            " [[  0   1   4]\n",
            " [  9  16  25]\n",
            " [ 36  49  64]\n",
            " [ 81 100 121]]\n",
            "\n",
            "\n",
            "[0 2 8]\n",
            "[18 32 50]\n",
            "[ 72  98 128]\n",
            "[162 200 242]\n"
          ]
        }
      ]
    },
    {
      "cell_type": "code",
      "source": [
        "#Matrix operation\n",
        "a=(np.random.random(12)*100).astype(int).reshape(3,4)\n",
        "print(\"Let's consider a 1-D array\\n\",a)\n",
        "print(\"After reshaping to 2 by 6 matrix\\n\",a.reshape(2,6))\n",
        "print(\"To Flatten the array\\n\",a.ravel())\n",
        "print(\"To transpose the array\\n\",a.T)"
      ],
      "metadata": {
        "colab": {
          "base_uri": "https://localhost:8080/"
        },
        "id": "hq7YlletskG9",
        "outputId": "3492471d-4026-4eec-cb28-89d472b7653a"
      },
      "execution_count": 58,
      "outputs": [
        {
          "output_type": "stream",
          "name": "stdout",
          "text": [
            "Let's consider a 1-D array\n",
            " [[68 35 75 46]\n",
            " [91 50 68  5]\n",
            " [ 8 46 45  8]]\n",
            "After reshaping to 2 by 6 matrix\n",
            " [[68 35 75 46 91 50]\n",
            " [68  5  8 46 45  8]]\n",
            "To Flatten the array\n",
            " [68 35 75 46 91 50 68  5  8 46 45  8]\n",
            "To transpose the array\n",
            " [[68 91  8]\n",
            " [35 50 46]\n",
            " [75 68 45]\n",
            " [46  5  8]]\n"
          ]
        }
      ]
    }
  ]
}